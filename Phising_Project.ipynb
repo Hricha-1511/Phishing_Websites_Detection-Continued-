{
 "cells": [
  {
   "cell_type": "markdown",
   "id": "6ad871d4",
   "metadata": {},
   "source": [
    "# PHISHING   WEBSITES DETECTION"
   ]
  },
  {
   "cell_type": "markdown",
   "id": "fb9fc4c6",
   "metadata": {},
   "source": [
    "Steps to Complete any Data Science Project.\n"
   ]
  },
  {
   "cell_type": "markdown",
   "id": "1e77828d",
   "metadata": {},
   "source": [
    "STEP_1     Understanding and Framing the problem is the first step of the data Science Life Cycle\n",
    "\n",
    "STEP_2     Data Collection ---- This step is about collection of right dataset in CSV or EXCEL or JSON file.\n",
    "\n",
    "STEP_3     Data Cleaning--- In this step eliminate duplicates and null values,also corrupt datatypes,invalid entries,missing               data,and improper formatting  \n",
    "STEP_4     Exploratory Data Analysis(EDA)\n",
    " \n",
    "STEP_5     Feature Engineering\n",
    "\n",
    "STEP_6     Data Modelling\n",
    "\n",
    "STEP_7     Model Deployment And Maintainance"
   ]
  },
  {
   "cell_type": "markdown",
   "id": "bda5c4c2",
   "metadata": {},
   "source": [
    "# CASE STUDY"
   ]
  },
  {
   "cell_type": "code",
   "execution_count": null,
   "id": "aa24f798",
   "metadata": {},
   "outputs": [],
   "source": []
  },
  {
   "cell_type": "markdown",
   "id": "afabe0bc",
   "metadata": {},
   "source": [
    "Here in this project we will be uisng diffrent Machine Learnig Models ie base models and Ensemble techiaues to perform Supervised Machine Learninf Classifaction between Legitimate and Phishing Websites.\n",
    "We will be using Classification models like\n",
    "         Logistic Regression Classifier\n",
    " \n",
    "         Decision Tree Classifier\n",
    "         \n",
    "         Random Forest CLassifier\n",
    "         \n",
    "         Boosting And Bagging techniques\n",
    "\n",
    "         Support vector machine Classifier\n",
    "         \n",
    "         Gaussian naive Bayes Classifier\n",
    " \n",
    "         Linear Discriminant Analysis Classifier\n",
    "\n",
    "         KNearest Neighbour  Classifier"
   ]
  },
  {
   "cell_type": "markdown",
   "id": "18b479b2",
   "metadata": {},
   "source": [
    "# EVALUATION METRIC FOR CLASSIFICATION PROBLEM"
   ]
  },
  {
   "cell_type": "markdown",
   "id": "ce38e6b9",
   "metadata": {},
   "source": [
    "Accuracy: is defined as the number of correct predictions divided by the total number of predictions.\n",
    "\n",
    "F1-Score: is a measure of a model’s accuracy on a dataset. It is used to evaluate binary classification systems, which classify examples into “positive” or “negative”.\n",
    "\n",
    "True Positive (TP): the total number of times the classifier classifies a URL as phishing, and it is correctly a phishing URL.\n",
    "\n",
    "True Negative (TN): the total number of times the classifier classifies a URL as not phishing or legitimate, and it is correctly not a phishing URL.\n",
    "\n",
    "False Positive (FP): the total number of times the classifier classifies a URL as a phishing URL, but it is not a phishing URL.\n",
    "\n",
    "False Negative (FN): the total number of times the classifier classifies a URL as not a phishing URL, but it is a phishing URL.\n",
    "\n",
    "Precision: It is implied as to the measure of the correctly identified positive cases from all the predicted positive cases. Therefore, it is useful when the cost of False Positives is high (this will be used to calculate F1-score).\n",
    "\n",
    "Recall: It is the measure of the correctly identified positive cases from all the actual positive cases. It is important when the cost of False Negatives is high (this will be used to calculate the F1-score)."
   ]
  },
  {
   "cell_type": "code",
   "execution_count": null,
   "id": "5ed350f1",
   "metadata": {},
   "outputs": [],
   "source": []
  }
 ],
 "metadata": {
  "kernelspec": {
   "display_name": "Python 3 (ipykernel)",
   "language": "python",
   "name": "python3"
  },
  "language_info": {
   "codemirror_mode": {
    "name": "ipython",
    "version": 3
   },
   "file_extension": ".py",
   "mimetype": "text/x-python",
   "name": "python",
   "nbconvert_exporter": "python",
   "pygments_lexer": "ipython3",
   "version": "3.9.13"
  }
 },
 "nbformat": 4,
 "nbformat_minor": 5
}
